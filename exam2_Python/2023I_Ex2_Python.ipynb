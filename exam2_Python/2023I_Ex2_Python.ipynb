{
 "cells": [
  {
   "attachments": {},
   "cell_type": "markdown",
   "metadata": {
    "id": "CEZHzeOFsfj6"
   },
   "source": [
    "<img src=\"https://eventos.ikiam.edu.ec/event/39/?print=1\" width=300 height=240 />\n",
    "\n",
    "\n",
    "# EXAMEN PARCIAL PYTHON\n",
    "    \n",
    "\n",
    "## GBI6 - BIOINFORMÁTICA\n",
    "\n",
    "**Apellidos, Nombres** <font color='white'>Ochoa Solis Klinton Isamel</font>\n",
    "\n",
    "**01-07-2023**"
   ]
  },
  {
   "cell_type": "markdown",
   "metadata": {
    "id": "tGwhY7HlsfkC"
   },
   "source": [
    "## Ejercicio 0.1 [0.5 puntos]\n",
    "Realice cambios al cuaderno de jupyter: \n",
    "- Agregue el logo de la Universidad\n",
    "- Coloque sus datos personales \n",
    "- Use el terminal para crear las carpetas `results` y `data`.\n",
    "- Use el terminal y mueva `gstm.txt` que tiene un listado de accesiones de glutathione transferase a la carpeta `data`.\n"
   ]
  },
  {
   "cell_type": "markdown",
   "metadata": {
    "id": "zXz2VQ92sfkE"
   },
   "source": [
    "## Ejercicio 1 [4.0 puntos]\n",
    "\n",
    "Cargue el módulo `popsimulate`, luego: \n",
    "\n",
    "1.1. explique lo que hace cada línea de la función `build_population`, simule un ejemplo y explique el resultado. \n",
    "\n",
    "1.2. explique lo que hace cada línea de la función `compute_frequencies`, simule un ejemplo y explique el resultado. \n",
    "\n",
    "1.3. explique lo que hace cada línea de la función `reproduce_population`, simule un ejemplo y explique el resultado. \n",
    "\n",
    "1.4. explique lo que hace cada línea de la función `simulate_drift`, simule un ejemplo y explique el resultado. "
   ]
  },
  {
   "cell_type": "code",
   "execution_count": 6,
   "metadata": {},
   "outputs": [],
   "source": [
    "import popsimulate"
   ]
  },
  {
   "cell_type": "code",
   "execution_count": 8,
   "metadata": {
    "id": "6nZuF5_ksfkF"
   },
   "outputs": [
    {
     "ename": "NameError",
     "evalue": "name 'build_population' is not defined",
     "output_type": "error",
     "traceback": [
      "\u001b[0;31m---------------------------------------------------------------------------\u001b[0m",
      "\u001b[0;31mNameError\u001b[0m                                 Traceback (most recent call last)",
      "Cell \u001b[0;32mIn[8], line 12\u001b[0m\n\u001b[1;32m      9\u001b[0m N \u001b[39m=\u001b[39m \u001b[39m100\u001b[39m  \u001b[39m# Tamaño de la población\u001b[39;00m\n\u001b[1;32m     10\u001b[0m p \u001b[39m=\u001b[39m \u001b[39m0.5\u001b[39m  \u001b[39m# Frecuencia alélica\u001b[39;00m\n\u001b[0;32m---> 12\u001b[0m population \u001b[39m=\u001b[39m build_population(N, p)\n\u001b[1;32m     13\u001b[0m \u001b[39mprint\u001b[39m(population)\n\u001b[1;32m     15\u001b[0m \u001b[39m##explicacion codigo 1.2\u001b[39;00m\n\u001b[1;32m     16\u001b[0m \u001b[39m## ejemplo y explicacion\u001b[39;00m\n\u001b[1;32m     17\u001b[0m \n\u001b[0;32m   (...)\u001b[0m\n\u001b[1;32m     21\u001b[0m \u001b[39m## explicacion codigo 1.4\u001b[39;00m\n\u001b[1;32m     22\u001b[0m \u001b[39m## ejemplo y explicacion\u001b[39;00m\n",
      "\u001b[0;31mNameError\u001b[0m: name 'build_population' is not defined"
     ]
    }
   ],
   "source": [
    "# Escriba aquí su código para el ejercicio 1\n",
    "import popsimulate\n",
    "\n",
    "## explicacion funcion 1.1\n",
    "\n",
    "## ejemplo y explicacion \n",
    "import scipy\n",
    "\n",
    "N = 100  # Tamaño de la población\n",
    "p = 0.5  # Frecuencia alélica\n",
    "\n",
    "population = build_population(N, p)\n",
    "print(population)\n",
    "## resultado \n",
    "[('A', 'a'), ('A', 'A'), ('A', 'A'), ('A', 'a'), ('a', 'A'), ('A', 'A'), ('A', 'a'), ('a', 'a'), ('A', 'A'), ('A', 'a'), ...]\n",
    "\n",
    "\n",
    "\n",
    "##explicacion codigo 1.2\n",
    "## ejemplo y explicacion\n",
    "population = [('A', 'a'), ('A', 'A'), ('A', 'A'), ('A', 'a'), ('a', 'A'), ('A', 'A'), ('A', 'a'), ('a', 'a'), ('A', 'A'), ('A', 'a')]\n",
    "frequencies = compute_frequencies(population)\n",
    "print(frequencies)\n",
    "## resultado\n",
    "{'AA': 6, 'aa': 1, 'Aa': 3, 'aA': 0}\n",
    "\n",
    "## explicacion linea codigo 1.3\n",
    "## ejemplo y explicacion\n",
    "import numpy as np\n",
    "\n",
    "population = [('A', 'a'), ('A', 'A'), ('A', 'A'), ('A', 'a'), ('a', 'A'), ('A', 'A'), ('A', 'a'), ('a', 'a'), ('A', 'A'), ('A', 'a')]\n",
    "new_generation = reproduce_population(population)\n",
    "print(new_generation)\n",
    "## resultado\n",
    "[('A', 'a'), ('A', 'A'), ('A', 'A'), ('A', 'a'), ('A', 'A'), ('A', 'a'), ('A', 'a'), ('A', 'A'), ('A', 'A'), ('A', 'A')]\n",
    "\n",
    "## explicacion codigo 1.4\n",
    "## ejemplo y explicacion\n",
    "import numpy as np\n",
    "\n",
    "N = 100  # Tamaño de la población\n",
    "p = 0.5  # Frecuencia alélica\n",
    "\n",
    "num_generations, genotype_counts = simulate_drift(N, p)\n",
    "print(\"Número de generaciones:\", num_generations)\n",
    "print(\"Conteo de genotipos:\", genotype_counts)\n",
    "## resultado\n",
    "An allele reached fixation at generation X\n",
    "The genotype counts are\n",
    "{'AA': N, 'aa': 0, 'Aa': 0, 'aA': 0}\n",
    "Número de generaciones: X\n",
    "Conteo de genotipos: {'AA': N, 'aa': 0, 'Aa': 0, 'aA': 0}\n",
    "\n"
   ]
  },
  {
   "cell_type": "markdown",
   "metadata": {
    "id": "Hs7dXkwxsfkG"
   },
   "source": [
    "## Ejercicio 2 [5.0 puntos]\n",
    "\n",
    "Cree el modulo `glutransferase.py` y genere las siguientes funciones:\n",
    "\n",
    "2.1. `source` que se conecte al `NCBI` y `Nucleotide` para extraer el nombre del organismo fuente y que cuente la frecuencia de cada especie. Guarde el resultado en `results/source.csv`\n",
    "\n",
    "2.2. `sequences` que se conecte al `NCBI` y `Nucleotide` para extraer la secuencia de ADN, que se realice la traducción y separación de péptidos. Asegurarse que los péptidos empiezan en metionina. Luego calcule `molecular weight` e `instability index`. Genere un `joinplot` utilizando los valores de peso molecular e índice de estabilidad. Edite color, tamaño y tipo de puntos, asimismo etiquete adecuadamente el título y los ejes. Guarde los resultados en `results/glupeptides.csv` y `results/glupeptides.png`.\n",
    "\n",
    "**No escriba las funciones en este cuaderno de jupyter**\n",
    "\n",
    "2.3. Use la lista de accesiones en `data/gstm.txt`, cargue el módulo `glutransferase` y ejecute las dos funciones. "
   ]
  },
  {
   "cell_type": "code",
   "execution_count": 15,
   "metadata": {
    "id": "AG42g3o2sfkJ"
   },
   "outputs": [
    {
     "ename": "FileNotFoundError",
     "evalue": "[Errno 2] No such file or directory: 'datos/gstm.txt'",
     "output_type": "error",
     "traceback": [
      "\u001b[0;31m---------------------------------------------------------------------------\u001b[0m",
      "\u001b[0;31mFileNotFoundError\u001b[0m                         Traceback (most recent call last)",
      "Cell \u001b[0;32mIn[15], line 6\u001b[0m\n\u001b[1;32m      3\u001b[0m \u001b[39mfrom\u001b[39;00m \u001b[39mglutransferase\u001b[39;00m \u001b[39mimport\u001b[39;00m source, sequences\n\u001b[1;32m      5\u001b[0m \u001b[39m# Cargar la lista de accesiones desde el archivo datos/gstm.txt\u001b[39;00m\n\u001b[0;32m----> 6\u001b[0m \u001b[39mwith\u001b[39;00m \u001b[39mopen\u001b[39;49m(\u001b[39m\"\u001b[39;49m\u001b[39mdatos/gstm.txt\u001b[39;49m\u001b[39m\"\u001b[39;49m) \u001b[39mas\u001b[39;00m file:\n\u001b[1;32m      7\u001b[0m     accessions \u001b[39m=\u001b[39m file\u001b[39m.\u001b[39mread()\u001b[39m.\u001b[39msplitlines()\n\u001b[1;32m      9\u001b[0m \u001b[39m# Ejecutar la función source para cada acceso\u001b[39;00m\n",
      "File \u001b[0;32m~/.local/lib/python3.10/site-packages/IPython/core/interactiveshell.py:284\u001b[0m, in \u001b[0;36m_modified_open\u001b[0;34m(file, *args, **kwargs)\u001b[0m\n\u001b[1;32m    277\u001b[0m \u001b[39mif\u001b[39;00m file \u001b[39min\u001b[39;00m {\u001b[39m0\u001b[39m, \u001b[39m1\u001b[39m, \u001b[39m2\u001b[39m}:\n\u001b[1;32m    278\u001b[0m     \u001b[39mraise\u001b[39;00m \u001b[39mValueError\u001b[39;00m(\n\u001b[1;32m    279\u001b[0m         \u001b[39mf\u001b[39m\u001b[39m\"\u001b[39m\u001b[39mIPython won\u001b[39m\u001b[39m'\u001b[39m\u001b[39mt let you open fd=\u001b[39m\u001b[39m{\u001b[39;00mfile\u001b[39m}\u001b[39;00m\u001b[39m by default \u001b[39m\u001b[39m\"\u001b[39m\n\u001b[1;32m    280\u001b[0m         \u001b[39m\"\u001b[39m\u001b[39mas it is likely to crash IPython. If you know what you are doing, \u001b[39m\u001b[39m\"\u001b[39m\n\u001b[1;32m    281\u001b[0m         \u001b[39m\"\u001b[39m\u001b[39myou can use builtins\u001b[39m\u001b[39m'\u001b[39m\u001b[39m open.\u001b[39m\u001b[39m\"\u001b[39m\n\u001b[1;32m    282\u001b[0m     )\n\u001b[0;32m--> 284\u001b[0m \u001b[39mreturn\u001b[39;00m io_open(file, \u001b[39m*\u001b[39;49margs, \u001b[39m*\u001b[39;49m\u001b[39m*\u001b[39;49mkwargs)\n",
      "\u001b[0;31mFileNotFoundError\u001b[0m: [Errno 2] No such file or directory: 'datos/gstm.txt'"
     ]
    }
   ],
   "source": [
    "# Escriba aquí su código para el ejercicio 2\n",
    "import glutransferase\n",
    "from glutransferase import source, sequences\n",
    "\n",
    "# Cargar la lista de accesiones desde el archivo datos/gstm.txt\n",
    "with open(\"datos/gstm.txt\") as file:\n",
    "    accessions = file.read().splitlines()\n",
    "\n",
    "# Ejecutar la función source para cada acceso\n",
    "for accession in accessions:\n",
    "    source(accession)\n",
    "\n",
    "# Ejecutar la función sequences para cada acceso\n",
    "for accession in accessions:\n",
    "    sequences(accession)\n",
    "\n"
   ]
  },
  {
   "cell_type": "markdown",
   "metadata": {
    "id": "-MaHCuV8sfkP"
   },
   "source": [
    "## Ejercicio 0.2 [0.5 puntos]\n",
    "\n",
    "\n",
    "1. Cree un archivo ```Readme.md``` que debe tener lo siguiente:\n",
    "- Datos personales\n",
    "- Características del computador\n",
    "- Versión de Python/Anaconda y de cada uno de los módulos/paquetes y utilizados\n",
    "- Explicación de la data utilizada\n",
    "\n",
    "2. Realice al menos 1 control de la versión (commits) por cada ejercicio (del 1 al 5), con un mensaje que inicie como: \n",
    "\n",
    "```sh \n",
    "Carlitos Alimaña ha realizado el ejercicio 1.1  \n",
    "```\n",
    "```sh \n",
    "Carlitos Alimaña ha realizado el ejercicio 2.1\n",
    "```\n",
    "```sh \n",
    "...\n",
    "```\n"
   ]
  }
 ],
 "metadata": {
  "colab": {
   "provenance": []
  },
  "kernelspec": {
   "display_name": "Python 3 (ipykernel)",
   "language": "python",
   "name": "python3"
  },
  "language_info": {
   "codemirror_mode": {
    "name": "ipython",
    "version": 3
   },
   "file_extension": ".py",
   "mimetype": "text/x-python",
   "name": "python",
   "nbconvert_exporter": "python",
   "pygments_lexer": "ipython3",
   "version": "3.10.8"
  },
  "latex_envs": {
   "LaTeX_envs_menu_present": true,
   "autoclose": false,
   "autocomplete": true,
   "bibliofile": "biblio.bib",
   "cite_by": "apalike",
   "current_citInitial": 1,
   "eqLabelWithNumbers": true,
   "eqNumInitial": 1,
   "hotkeys": {
    "equation": "Ctrl-E",
    "itemize": "Ctrl-I"
   },
   "labels_anchors": false,
   "latex_user_defs": false,
   "report_style_numbering": false,
   "user_envs_cfg": false
  },
  "toc": {
   "base_numbering": 1,
   "nav_menu": {},
   "number_sections": true,
   "sideBar": false,
   "skip_h1_title": false,
   "title_cell": "Table of Contents",
   "title_sidebar": "Contents",
   "toc_cell": false,
   "toc_position": {
    "height": "1152.67px",
    "left": "41px",
    "top": "110px",
    "width": "253.458px"
   },
   "toc_section_display": true,
   "toc_window_display": false
  },
  "varInspector": {
   "cols": {
    "lenName": 16,
    "lenType": 16,
    "lenVar": 40
   },
   "kernels_config": {
    "python": {
     "delete_cmd_postfix": "",
     "delete_cmd_prefix": "del ",
     "library": "var_list.py",
     "varRefreshCmd": "print(var_dic_list())"
    },
    "r": {
     "delete_cmd_postfix": ") ",
     "delete_cmd_prefix": "rm(",
     "library": "var_list.r",
     "varRefreshCmd": "cat(var_dic_list()) "
    }
   },
   "types_to_exclude": [
    "module",
    "function",
    "builtin_function_or_method",
    "instance",
    "_Feature"
   ],
   "window_display": false
  }
 },
 "nbformat": 4,
 "nbformat_minor": 1
}
